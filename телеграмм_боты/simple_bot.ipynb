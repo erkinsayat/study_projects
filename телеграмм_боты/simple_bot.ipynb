{
  "cells": [
    {
      "cell_type": "markdown",
      "source": [
        "# Подключение библиотек"
      ],
      "metadata": {
        "id": "q1z1FmgGl73r"
      }
    },
    {
      "cell_type": "code",
      "source": [
        "# Подключение google drive\n",
        "from google.colab import drive\n",
        "drive.mount('/content/drive')"
      ],
      "metadata": {
        "colab": {
          "base_uri": "https://localhost:8080/"
        },
        "id": "3i_PkJrufzef",
        "outputId": "959cc89a-debf-4c85-fdda-d10b41e26271"
      },
      "execution_count": 2,
      "outputs": [
        {
          "output_type": "stream",
          "name": "stdout",
          "text": [
            "Mounted at /content/drive\n"
          ]
        }
      ]
    },
    {
      "cell_type": "code",
      "source": [
        "# Данные\n",
        "import pandas as pd\n",
        "import numpy as np\n",
        "# Векторизация\n",
        "from sklearn.feature_extraction.text import TfidfVectorizer\n",
        "# Сжатие матрицы\n",
        "from sklearn.decomposition import TruncatedSVD\n",
        "# Поиск ближайших соседей\n",
        "from sklearn.neighbors import BallTree\n",
        "from sklearn.base import BaseEstimator\n",
        "# Создает пайплайн для обрботки входного сообщения\n",
        "from sklearn.pipeline import make_pipeline"
      ],
      "metadata": {
        "id": "KSki5Q7mgBqv"
      },
      "execution_count": 86,
      "outputs": []
    },
    {
      "cell_type": "code",
      "source": [
        "# Для телеграмм-бота\n",
        "# ! pip install pytelegrambotapi\n",
        "import telebot"
      ],
      "metadata": {
        "id": "Ex9gpW7L96EL"
      },
      "execution_count": 87,
      "outputs": []
    },
    {
      "cell_type": "markdown",
      "source": [
        "# Загрузка данных"
      ],
      "metadata": {
        "id": "M_0VW5OOmJBR"
      }
    },
    {
      "cell_type": "markdown",
      "source": [
        "Данные для обучения можно скачать по ссылке: https://drive.google.com/file/d/1n-CURowM0v-uEX07o5CG2DCvTgTGgem8/view?usp=share_link"
      ],
      "metadata": {
        "id": "4nSZ3PTFrXWl"
      }
    },
    {
      "cell_type": "code",
      "source": [
        "# Импорт датасета\n",
        "df = pd.read_csv('/content/good.tsv', sep = '\\t')\n",
        "\n",
        "# Отбор нужных колонок\n",
        "df = df[['context_0', 'reply']]"
      ],
      "metadata": {
        "id": "sOJKQmoqgEfG"
      },
      "execution_count": 88,
      "outputs": []
    },
    {
      "cell_type": "code",
      "source": [
        "# Размер таблицы\n",
        "df.shape"
      ],
      "metadata": {
        "colab": {
          "base_uri": "https://localhost:8080/"
        },
        "id": "AtVxrMfJmjN6",
        "outputId": "29a076a6-15aa-45f1-e400-2051c377363e"
      },
      "execution_count": 89,
      "outputs": [
        {
          "output_type": "execute_result",
          "data": {
            "text/plain": [
              "(60049, 2)"
            ]
          },
          "metadata": {},
          "execution_count": 89
        }
      ]
    },
    {
      "cell_type": "code",
      "source": [
        "# Просмотр данных\n",
        "df.sample(3)"
      ],
      "metadata": {
        "colab": {
          "base_uri": "https://localhost:8080/",
          "height": 143
        },
        "id": "VmTkgxNomQf3",
        "outputId": "02127ce6-6802-4299-ba87-3f54dd98ce97"
      },
      "execution_count": 90,
      "outputs": [
        {
          "output_type": "execute_result",
          "data": {
            "text/plain": [
              "                                   context_0                        reply\n",
              "42675  он знает все о присяжных и женщинах .  и они все в него влюблены .\n",
              "52857                      что - то не так ?  нет - нет , совсем ничего .\n",
              "49266  хотите знать , какой я сделал вывод ?                 именно это ."
            ],
            "text/html": [
              "\n",
              "  <div id=\"df-f8c0fda9-aaa6-41b6-870c-a9441dcf0c53\">\n",
              "    <div class=\"colab-df-container\">\n",
              "      <div>\n",
              "<style scoped>\n",
              "    .dataframe tbody tr th:only-of-type {\n",
              "        vertical-align: middle;\n",
              "    }\n",
              "\n",
              "    .dataframe tbody tr th {\n",
              "        vertical-align: top;\n",
              "    }\n",
              "\n",
              "    .dataframe thead th {\n",
              "        text-align: right;\n",
              "    }\n",
              "</style>\n",
              "<table border=\"1\" class=\"dataframe\">\n",
              "  <thead>\n",
              "    <tr style=\"text-align: right;\">\n",
              "      <th></th>\n",
              "      <th>context_0</th>\n",
              "      <th>reply</th>\n",
              "    </tr>\n",
              "  </thead>\n",
              "  <tbody>\n",
              "    <tr>\n",
              "      <th>42675</th>\n",
              "      <td>он знает все о присяжных и женщинах .</td>\n",
              "      <td>и они все в него влюблены .</td>\n",
              "    </tr>\n",
              "    <tr>\n",
              "      <th>52857</th>\n",
              "      <td>что - то не так ?</td>\n",
              "      <td>нет - нет , совсем ничего .</td>\n",
              "    </tr>\n",
              "    <tr>\n",
              "      <th>49266</th>\n",
              "      <td>хотите знать , какой я сделал вывод ?</td>\n",
              "      <td>именно это .</td>\n",
              "    </tr>\n",
              "  </tbody>\n",
              "</table>\n",
              "</div>\n",
              "      <button class=\"colab-df-convert\" onclick=\"convertToInteractive('df-f8c0fda9-aaa6-41b6-870c-a9441dcf0c53')\"\n",
              "              title=\"Convert this dataframe to an interactive table.\"\n",
              "              style=\"display:none;\">\n",
              "        \n",
              "  <svg xmlns=\"http://www.w3.org/2000/svg\" height=\"24px\"viewBox=\"0 0 24 24\"\n",
              "       width=\"24px\">\n",
              "    <path d=\"M0 0h24v24H0V0z\" fill=\"none\"/>\n",
              "    <path d=\"M18.56 5.44l.94 2.06.94-2.06 2.06-.94-2.06-.94-.94-2.06-.94 2.06-2.06.94zm-11 1L8.5 8.5l.94-2.06 2.06-.94-2.06-.94L8.5 2.5l-.94 2.06-2.06.94zm10 10l.94 2.06.94-2.06 2.06-.94-2.06-.94-.94-2.06-.94 2.06-2.06.94z\"/><path d=\"M17.41 7.96l-1.37-1.37c-.4-.4-.92-.59-1.43-.59-.52 0-1.04.2-1.43.59L10.3 9.45l-7.72 7.72c-.78.78-.78 2.05 0 2.83L4 21.41c.39.39.9.59 1.41.59.51 0 1.02-.2 1.41-.59l7.78-7.78 2.81-2.81c.8-.78.8-2.07 0-2.86zM5.41 20L4 18.59l7.72-7.72 1.47 1.35L5.41 20z\"/>\n",
              "  </svg>\n",
              "      </button>\n",
              "      \n",
              "  <style>\n",
              "    .colab-df-container {\n",
              "      display:flex;\n",
              "      flex-wrap:wrap;\n",
              "      gap: 12px;\n",
              "    }\n",
              "\n",
              "    .colab-df-convert {\n",
              "      background-color: #E8F0FE;\n",
              "      border: none;\n",
              "      border-radius: 50%;\n",
              "      cursor: pointer;\n",
              "      display: none;\n",
              "      fill: #1967D2;\n",
              "      height: 32px;\n",
              "      padding: 0 0 0 0;\n",
              "      width: 32px;\n",
              "    }\n",
              "\n",
              "    .colab-df-convert:hover {\n",
              "      background-color: #E2EBFA;\n",
              "      box-shadow: 0px 1px 2px rgba(60, 64, 67, 0.3), 0px 1px 3px 1px rgba(60, 64, 67, 0.15);\n",
              "      fill: #174EA6;\n",
              "    }\n",
              "\n",
              "    [theme=dark] .colab-df-convert {\n",
              "      background-color: #3B4455;\n",
              "      fill: #D2E3FC;\n",
              "    }\n",
              "\n",
              "    [theme=dark] .colab-df-convert:hover {\n",
              "      background-color: #434B5C;\n",
              "      box-shadow: 0px 1px 3px 1px rgba(0, 0, 0, 0.15);\n",
              "      filter: drop-shadow(0px 1px 2px rgba(0, 0, 0, 0.3));\n",
              "      fill: #FFFFFF;\n",
              "    }\n",
              "  </style>\n",
              "\n",
              "      <script>\n",
              "        const buttonEl =\n",
              "          document.querySelector('#df-f8c0fda9-aaa6-41b6-870c-a9441dcf0c53 button.colab-df-convert');\n",
              "        buttonEl.style.display =\n",
              "          google.colab.kernel.accessAllowed ? 'block' : 'none';\n",
              "\n",
              "        async function convertToInteractive(key) {\n",
              "          const element = document.querySelector('#df-f8c0fda9-aaa6-41b6-870c-a9441dcf0c53');\n",
              "          const dataTable =\n",
              "            await google.colab.kernel.invokeFunction('convertToInteractive',\n",
              "                                                     [key], {});\n",
              "          if (!dataTable) return;\n",
              "\n",
              "          const docLinkHtml = 'Like what you see? Visit the ' +\n",
              "            '<a target=\"_blank\" href=https://colab.research.google.com/notebooks/data_table.ipynb>data table notebook</a>'\n",
              "            + ' to learn more about interactive tables.';\n",
              "          element.innerHTML = '';\n",
              "          dataTable['output_type'] = 'display_data';\n",
              "          await google.colab.output.renderOutput(dataTable, element);\n",
              "          const docLink = document.createElement('div');\n",
              "          docLink.innerHTML = docLinkHtml;\n",
              "          element.appendChild(docLink);\n",
              "        }\n",
              "      </script>\n",
              "    </div>\n",
              "  </div>\n",
              "  "
            ]
          },
          "metadata": {},
          "execution_count": 90
        }
      ]
    },
    {
      "cell_type": "markdown",
      "source": [
        "# Векторизация"
      ],
      "metadata": {
        "id": "r2dmN0YImU79"
      }
    },
    {
      "cell_type": "markdown",
      "source": [
        "Для подчи данных в модель необходимо их прпобразовать в вектор из чисел"
      ],
      "metadata": {
        "id": "kJuXSrqYndfe"
      }
    },
    {
      "cell_type": "code",
      "source": [
        "# Инициалцизация алгорима\n",
        "vectorizer = TfidfVectorizer()\n",
        "# Обучение алгоритма\n",
        "vectorizer.fit(df.context_0)\n",
        "# Получение матрицы от алгоритма\n",
        "big_matrixs = vectorizer.transform(df.context_0)"
      ],
      "metadata": {
        "id": "poiv_RjrlhHl"
      },
      "execution_count": 91,
      "outputs": []
    },
    {
      "cell_type": "code",
      "source": [
        "# Размер матрицы\n",
        "big_matrixs.shape"
      ],
      "metadata": {
        "colab": {
          "base_uri": "https://localhost:8080/"
        },
        "id": "-I6E_lB_l3u7",
        "outputId": "c84386de-e7f3-4d27-97cc-207ce813727f"
      },
      "execution_count": 92,
      "outputs": [
        {
          "output_type": "execute_result",
          "data": {
            "text/plain": [
              "(60049, 14123)"
            ]
          },
          "metadata": {},
          "execution_count": 92
        }
      ]
    },
    {
      "cell_type": "markdown",
      "source": [
        "Для уменьшения размерности матрицы признаков следует использовать анализ главных компонентов"
      ],
      "metadata": {
        "id": "BKBW5L5AnqHg"
      }
    },
    {
      "cell_type": "code",
      "source": [
        "# Инициалцизация алгорима\n",
        "svd = TruncatedSVD(n_components = 300)\n",
        "# Обучение алгоритма\n",
        "svd.fit(big_matrixs)\n",
        "# Получение сжатой матрицы от алгоритма\n",
        "small_matrixs = svd.transform(big_matrixs)\n",
        "\n",
        "print(f'Удалось сохранить {round(svd.explained_variance_ratio_.sum(), 2) * 100}% информации')"
      ],
      "metadata": {
        "colab": {
          "base_uri": "https://localhost:8080/"
        },
        "id": "ntBXJwbNmov8",
        "outputId": "9fc907c5-dd19-4bc3-9e54-f6151bcf4a3e"
      },
      "execution_count": 93,
      "outputs": [
        {
          "output_type": "stream",
          "name": "stdout",
          "text": [
            "Удалось сохранить 44.0% информации\n"
          ]
        }
      ]
    },
    {
      "cell_type": "code",
      "source": [
        "# Новый размер матрицы\n",
        "small_matrixs.shape"
      ],
      "metadata": {
        "colab": {
          "base_uri": "https://localhost:8080/"
        },
        "id": "2RUPjd9KoKX4",
        "outputId": "5dbd1239-fd12-411c-af61-ddef8196c3e2"
      },
      "execution_count": 94,
      "outputs": [
        {
          "output_type": "execute_result",
          "data": {
            "text/plain": [
              "(60049, 300)"
            ]
          },
          "metadata": {},
          "execution_count": 94
        }
      ]
    },
    {
      "cell_type": "markdown",
      "source": [
        "# Поиск ближайших соседей"
      ],
      "metadata": {
        "id": "4G30ac8eqvF-"
      }
    },
    {
      "cell_type": "code",
      "source": [
        "def softmax(x):\n",
        "  \"\"\" Функция активации для создания вероятности распределения \"\"\"\n",
        "  proba = np.exp(-x)\n",
        "  return proba / sum(proba)"
      ],
      "metadata": {
        "id": "JnBcRfXKqtO1"
      },
      "execution_count": 95,
      "outputs": []
    },
    {
      "cell_type": "code",
      "source": [
        "class NeighborSampler(BaseEstimator):\n",
        "  \"\"\" Класс для поиска ближайшего соседа \"\"\"\n",
        "  def __init__ (self, k = 5, temperature = 1.0):\n",
        "    self.k = k\n",
        "    self.temperature = temperature\n",
        "\n",
        "  def fit(self, X, y):\n",
        "    self.tree_ = BallTree(X)\n",
        "    self.y_ = np.array(y)\n",
        "\n",
        "  def predict(self, X, random_sate = None):\n",
        "    distances, indices = self.tree_.query(X, return_distance = True, k = self.k)\n",
        "    result = []\n",
        "\n",
        "    for distance, index in zip(distances, indices):\n",
        "      result.append(np.random.choice(index, p = softmax(distance * self.temperature)))\n",
        "\n",
        "    return self.y_[result]"
      ],
      "metadata": {
        "id": "VvscMBxKrNiu"
      },
      "execution_count": 96,
      "outputs": []
    },
    {
      "cell_type": "markdown",
      "source": [
        "# Оптимизация вывода"
      ],
      "metadata": {
        "id": "LtnJaVvqvCJr"
      }
    },
    {
      "cell_type": "markdown",
      "source": [
        "Для обработки входного сообщения и предсказания создаим едыный пайплайн"
      ],
      "metadata": {
        "id": "tsSMPLMevFbH"
      }
    },
    {
      "cell_type": "code",
      "source": [
        "# Создание единого алгоритма\n",
        "ns = NeighborSampler()\n",
        "ns.fit(small_matrixs, df.reply)\n",
        "pipeline = make_pipeline(vectorizer, svd, ns)"
      ],
      "metadata": {
        "id": "q5OBbnqvtlaq"
      },
      "execution_count": 97,
      "outputs": []
    },
    {
      "cell_type": "markdown",
      "source": [
        "# Проверка работоспособности"
      ],
      "metadata": {
        "id": "3JzmKGj7vUKc"
      }
    },
    {
      "cell_type": "code",
      "source": [
        "for _ in range(3):\n",
        "  massage = input('Вы: ')\n",
        "  print('Бот:', pipeline.predict([massage])[0])"
      ],
      "metadata": {
        "colab": {
          "base_uri": "https://localhost:8080/"
        },
        "id": "WahXGxyW3Kar",
        "outputId": "ee77eb76-bae3-47f6-b60a-64f27697a9d8"
      },
      "execution_count": 76,
      "outputs": [
        {
          "output_type": "stream",
          "name": "stdout",
          "text": [
            "Вы: здарова дружище\n",
            "Бот: я почти не слышу .\n",
            "Вы: как так?\n",
            "Бот: вот так .\n",
            "Вы: это печально ...\n",
            "Бот: да , взгляни - ка .\n"
          ]
        }
      ]
    },
    {
      "cell_type": "markdown",
      "source": [
        "# Запуск бота"
      ],
      "metadata": {
        "id": "STEFQvRp6Mig"
      }
    },
    {
      "cell_type": "markdown",
      "source": [
        "Для создания нового бота необходимо получить токен у бота @BotFather в Телеграмме.\n",
        "\n",
        "Моего же бота можно найти по логину @erkins_test_bot"
      ],
      "metadata": {
        "id": "b6ammDZkmQNH"
      }
    },
    {
      "cell_type": "code",
      "source": [
        "TOKEN = '6263029041:AAGDKYK5sk_5OkO9_1Kbk1jn4WaqyA9p3TU'"
      ],
      "metadata": {
        "id": "TXOfjO1V6Pdm"
      },
      "execution_count": 98,
      "outputs": []
    },
    {
      "cell_type": "code",
      "source": [
        "bot = telebot.TeleBot(TOKEN)\n",
        "\n",
        "@bot.message_handler(commands = ['start', 'help'])\n",
        "def send_welcome(massage):\n",
        "  bot.reply_to(massage, 'Привет, поговори со мной')\n",
        "\n",
        "@bot.message_handler(func = lambda massage : True)\n",
        "def echo_all(massage):\n",
        "  bot.reply_to(massage, pipeline.predict([massage.text.lower()])[0])\n",
        "\n",
        "bot.polling()"
      ],
      "metadata": {
        "id": "mjBT3zyK7q-D"
      },
      "execution_count": 101,
      "outputs": []
    },
    {
      "cell_type": "markdown",
      "source": [
        "Бот работает пока запущенна ячейка, для неограниченного доступа можно запустить его на каком нибудь облачном сервере"
      ],
      "metadata": {
        "id": "KzCgveb4-2r-"
      }
    }
  ],
  "metadata": {
    "colab": {
      "name": "Добро пожаловать в Colaboratory!",
      "provenance": []
    },
    "kernelspec": {
      "display_name": "Python 3",
      "name": "python3"
    }
  },
  "nbformat": 4,
  "nbformat_minor": 0
}