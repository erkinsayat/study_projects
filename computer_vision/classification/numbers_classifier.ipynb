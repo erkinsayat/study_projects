{
  "cells": [
    {
      "cell_type": "markdown",
      "metadata": {
        "id": "Qx7gD5SOa0oT"
      },
      "source": [
        "## Импорт библиотек ##"
      ]
    },
    {
      "cell_type": "code",
      "execution_count": 47,
      "metadata": {
        "colab": {
          "base_uri": "https://localhost:8080/"
        },
        "id": "tRPzy1zPDyYD",
        "outputId": "a9a9bef2-397e-45eb-a5ec-2c4ba5c847a9"
      },
      "outputs": [
        {
          "output_type": "stream",
          "name": "stdout",
          "text": [
            "2.11.0\n"
          ]
        }
      ],
      "source": [
        "import tensorflow as tf\n",
        "print(tf.__version__)\n",
        "import matplotlib.pyplot as plt\n",
        "import numpy as np\n",
        "import pandas as pd"
      ]
    },
    {
      "cell_type": "markdown",
      "source": [
        "### Функция визуализации ###"
      ],
      "metadata": {
        "id": "QolB1CkgzFtx"
      }
    },
    {
      "cell_type": "code",
      "source": [
        "def show_result(image, true_label, predict = False, model = None):\n",
        "  if predict == False:\n",
        "    print('Истинный класс:', true_label)\n",
        "    plt.imshow(image, 'gray')\n",
        "    plt.show()\n",
        "  else:\n",
        "    assert model is not None, 'Укажите модель для классификации'\n",
        "    predict = model.predict(image[None, ...])\n",
        "    print('Предсказанный класс:', np.argmax(predict))\n",
        "    print('Истинный класс:', true_label)\n",
        "    plt.imshow(image, 'gray')\n",
        "    plt.show()"
      ],
      "metadata": {
        "id": "DZpC1akKzJxY"
      },
      "execution_count": 87,
      "outputs": []
    },
    {
      "cell_type": "markdown",
      "metadata": {
        "id": "nL_nICZ4cMOx"
      },
      "source": [
        "## Загрузка данных ##\n",
        "Будем использовать датасет MNIST для классификации рукописных чисел"
      ]
    },
    {
      "cell_type": "code",
      "execution_count": 26,
      "metadata": {
        "colab": {
          "base_uri": "https://localhost:8080/"
        },
        "id": "AcMON-_rWqdK",
        "outputId": "9c84da21-6eff-48d1-8a13-98df7d604ca9"
      },
      "outputs": [
        {
          "output_type": "stream",
          "name": "stdout",
          "text": [
            "Кол-во классов: 10\n",
            "x_train: (60000, 28, 28, 1)\n",
            "x_test: (10000, 28, 28, 1)\n"
          ]
        }
      ],
      "source": [
        "(x_train, y_train),(x_test, y_test) = tf.keras.datasets.mnist.load_data()\n",
        "# нормолизуем значения пиксилей из 0-255 в 0-1\n",
        "x_train, x_test = x_train / 255.0, x_test / 255.0\n",
        "# добавляем канальное измерение (batch, 28, 28, 1)\n",
        "x_train, x_test = x_train.reshape(x_train.shape[0], 28, 28, 1), x_test.reshape(x_test.shape[0], 28, 28, 1)\n",
        "# считаем кол-во классов выделяя уникальные значения\n",
        "class_num = np.unique(y_test).shape[0]\n",
        "\n",
        "print('Кол-во классов:', class_num)\n",
        "print('x_train:', x_train.shape)\n",
        "print('x_test:', x_test.shape)"
      ]
    },
    {
      "cell_type": "code",
      "source": [
        "show_result(x_test[0], y_test[0])"
      ],
      "metadata": {
        "colab": {
          "base_uri": "https://localhost:8080/",
          "height": 282
        },
        "id": "Kcfsofo9zdCG",
        "outputId": "b4ce34a2-a5b4-4056-f804-ec61df324231"
      },
      "execution_count": 43,
      "outputs": [
        {
          "output_type": "stream",
          "name": "stdout",
          "text": [
            "Истинный класс: 7\n"
          ]
        },
        {
          "output_type": "display_data",
          "data": {
            "text/plain": [
              "<Figure size 432x288 with 1 Axes>"
            ],
            "image/png": "[encoded data removed]"
          },
          "metadata": {
            "needs_background": "light"
          }
        }
      ]
    },
    {
      "cell_type": "markdown",
      "source": [
        "## Создание модели ##\n",
        "Будем использовать не сложную архитектуру последовательности Sequential"
      ],
      "metadata": {
        "id": "19Q5IDGPvQ02"
      }
    },
    {
      "cell_type": "code",
      "source": [
        "# архитектура включает в себя сверточные слои с понижением размерности через раз\n",
        "# далее идет векторизация для полносвязнах слоев\n",
        "# и конечным результатом идет распределение верятностей по классам через активацию softmax\n",
        "model = tf.keras.models.Sequential()\n",
        "model.add(tf.keras.layers.Conv2D(filters = 64, kernel_size = (3, 3), activation = 'relu', input_shape = (28, 28, 1)))\n",
        "model.add(tf.keras.layers.MaxPooling2D())\n",
        "model.add(tf.keras.layers.Conv2D(filters = 32, kernel_size = (3, 3), activation = 'relu'))\n",
        "model.add(tf.keras.layers.MaxPooling2D())\n",
        "model.add(tf.keras.layers.Flatten())\n",
        "model.add(tf.keras.layers.Dense(units = 32, activation = 'relu'))\n",
        "model.add(tf.keras.layers.Dense(units = class_num, activation = 'softmax'))\n",
        "\n",
        "# для функцияи loss используется scc так как классов больше чем 2\n",
        "model.compile(optimizer = 'adam', loss = 'sparse_categorical_crossentropy', metrics = ['accuracy'])\n",
        "\n",
        "model.summary()"
      ],
      "metadata": {
        "colab": {
          "base_uri": "https://localhost:8080/"
        },
        "id": "hL6CV9YrvOc5",
        "outputId": "6483039c-7909-415d-c3ef-14a245d4d4b0"
      },
      "execution_count": 35,
      "outputs": [
        {
          "output_type": "stream",
          "name": "stdout",
          "text": [
            "Model: \"sequential_8\"\n",
            "_________________________________________________________________\n",
            " Layer (type)                Output Shape              Param #   \n",
            "=================================================================\n",
            " conv2d_13 (Conv2D)          (None, 26, 26, 64)        640       \n",
            "                                                                 \n",
            " max_pooling2d_12 (MaxPoolin  (None, 13, 13, 64)       0         \n",
            " g2D)                                                            \n",
            "                                                                 \n",
            " conv2d_14 (Conv2D)          (None, 11, 11, 32)        18464     \n",
            "                                                                 \n",
            " max_pooling2d_13 (MaxPoolin  (None, 5, 5, 32)         0         \n",
            " g2D)                                                            \n",
            "                                                                 \n",
            " flatten_6 (Flatten)         (None, 800)               0         \n",
            "                                                                 \n",
            " dense_10 (Dense)            (None, 32)                25632     \n",
            "                                                                 \n",
            " dense_11 (Dense)            (None, 10)                330       \n",
            "                                                                 \n",
            "=================================================================\n",
            "Total params: 45,066\n",
            "Trainable params: 45,066\n",
            "Non-trainable params: 0\n",
            "_________________________________________________________________\n"
          ]
        }
      ]
    },
    {
      "cell_type": "markdown",
      "source": [
        "## Обучение модели ##"
      ],
      "metadata": {
        "id": "h34AIbX0y3Yr"
      }
    },
    {
      "cell_type": "code",
      "source": [
        "history = model.fit(x_train, y_train, batch_size = 128, epochs = 8)"
      ],
      "metadata": {
        "colab": {
          "base_uri": "https://localhost:8080/"
        },
        "id": "hMgjbCYOvOfk",
        "outputId": "abb99f14-9746-4d7f-8329-4bfea7c37e82"
      },
      "execution_count": 68,
      "outputs": [
        {
          "output_type": "stream",
          "name": "stdout",
          "text": [
            "Epoch 1/8\n",
            "469/469 [==============================] - 100s 213ms/step - loss: 0.0447 - accuracy: 0.9865\n",
            "Epoch 2/8\n",
            "469/469 [==============================] - 97s 206ms/step - loss: 0.0376 - accuracy: 0.9885\n",
            "Epoch 3/8\n",
            "469/469 [==============================] - 86s 184ms/step - loss: 0.0309 - accuracy: 0.9908\n",
            "Epoch 4/8\n",
            "469/469 [==============================] - 86s 183ms/step - loss: 0.0273 - accuracy: 0.9916\n",
            "Epoch 5/8\n",
            "469/469 [==============================] - 91s 194ms/step - loss: 0.0241 - accuracy: 0.9921\n",
            "Epoch 6/8\n",
            "469/469 [==============================] - 84s 178ms/step - loss: 0.0220 - accuracy: 0.9930\n",
            "Epoch 7/8\n",
            "469/469 [==============================] - 73s 157ms/step - loss: 0.0181 - accuracy: 0.9942\n",
            "Epoch 8/8\n",
            "469/469 [==============================] - 71s 152ms/step - loss: 0.0162 - accuracy: 0.9950\n"
          ]
        }
      ]
    },
    {
      "cell_type": "code",
      "source": [
        "# fit_history содержит записи метрик после каждой эпохи\n",
        "fit_history = pd.DataFrame(history.history)"
      ],
      "metadata": {
        "id": "Nxo1RUdJvOh_"
      },
      "execution_count": 69,
      "outputs": []
    },
    {
      "cell_type": "code",
      "source": [
        "fig, axis = plt.subplots(1, 2, figsize = (13, 5))\n",
        "axis[0].plot(fit_history['loss'], fit_history.index)\n",
        "axis[0].set_title('Loss', fontsize = 15)\n",
        "axis[1].set_title('Accuracy', fontsize = 15)\n",
        "axis[1].plot(fit_history['accuracy'])\n",
        "plt.show()"
      ],
      "metadata": {
        "colab": {
          "base_uri": "https://localhost:8080/",
          "height": 338
        },
        "id": "tflOuacO1pdB",
        "outputId": "cceba4b8-103b-45cc-d8ef-554b1fff5550"
      },
      "execution_count": 70,
      "outputs": [
        {
          "output_type": "display_data",
          "data": {
            "text/plain": [
              "<Figure size 936x360 with 2 Axes>"
            ],
            "image/png": "[encoded data removed]"
          },
          "metadata": {
            "needs_background": "light"
          }
        }
      ]
    },
    {
      "cell_type": "markdown",
      "source": [
        "## Инференс ##"
      ],
      "metadata": {
        "id": "j_JwWO-h4Dap"
      }
    },
    {
      "cell_type": "code",
      "source": [
        "# Сохраняем модель\n",
        "model.save('num_classifical_model')"
      ],
      "metadata": {
        "id": "RaKYzB3-4Hcn"
      },
      "execution_count": null,
      "outputs": []
    },
    {
      "cell_type": "code",
      "source": [
        "# Выгружаем модель\n",
        "my_save_model = tf.keras.models.load_model('/content/num_classifical_model')"
      ],
      "metadata": {
        "id": "r-4bfQyB5hWW"
      },
      "execution_count": 72,
      "outputs": []
    },
    {
      "cell_type": "code",
      "source": [
        "# производим инференс сохраненной модели\n",
        "show_result(x_test[0], y_test[0], predict = True, model = my_save_model)"
      ],
      "metadata": {
        "colab": {
          "base_uri": "https://localhost:8080/",
          "height": 317
        },
        "id": "UvU1DCz05hZP",
        "outputId": "806a9bc5-e397-41d2-81d2-56411806f5f0"
      },
      "execution_count": 90,
      "outputs": [
        {
          "output_type": "stream",
          "name": "stdout",
          "text": [
            "1/1 [==============================] - 0s 82ms/step\n",
            "Предсказанный класс: 7\n",
            "Истинный класс: 7\n"
          ]
        },
        {
          "output_type": "display_data",
          "data": {
            "text/plain": [
              "<Figure size 432x288 with 1 Axes>"
            ],
            "image/png": "[encoded data removed]"
          },
          "metadata": {
            "needs_background": "light"
          }
        }
      ]
    }
  ],
  "metadata": {
    "colab": {
      "provenance": []
    },
    "kernelspec": {
      "display_name": "Python 3",
      "name": "python3"
    },
    "gpuClass": "standard"
  },
  "nbformat": 4,
  "nbformat_minor": 0
}