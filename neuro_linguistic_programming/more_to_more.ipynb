{
 "cells": [
  {
   "cell_type": "code",
   "execution_count": 1,
   "metadata": {
    "colab": {
     "base_uri": "https://localhost:8080/"
    },
    "executionInfo": {
     "elapsed": 4828,
     "status": "ok",
     "timestamp": 1662794154853,
     "user": {
      "displayName": "Михаил Архипов",
      "userId": "10246866371929740571"
     },
     "user_tz": -180
    },
    "id": "aYKyrPqs55t1",
    "outputId": "9bd7e63d-21b0-4417-f8d0-d5a5aaa02679"
   },
   "outputs": [
    {
     "name": "stdout",
     "output_type": "stream",
     "text": [
      "2.8.0\n"
     ]
    }
   ],
   "source": [
    "# Загружаем библиотеки\n",
    "import codecs\n",
    "import numpy as np\n",
    "import pandas as pd\n",
    "import tensorflow as tf\n",
    "import pickle\n",
    "from pathlib import Path\n",
    "print(tf.__version__)"
   ]
  },
  {
   "cell_type": "markdown",
   "metadata": {
    "id": "DRJ_L-W8V8Ir"
   },
   "source": [
    "Загружаем данные в датафреймы"
   ]
  },
  {
   "cell_type": "code",
   "execution_count": 2,
   "metadata": {
    "colab": {
     "base_uri": "https://localhost:8080/",
     "height": 424
    },
    "executionInfo": {
     "elapsed": 3633,
     "status": "ok",
     "timestamp": 1662794158467,
     "user": {
      "displayName": "Михаил Архипов",
      "userId": "10246866371929740571"
     },
     "user_tz": -180
    },
    "id": "SY5LDmKU55t-",
    "outputId": "918ac0c8-a54b-4c99-99af-e4d649a5b247"
   },
   "outputs": [
    {
     "data": {
      "text/html": [
       "<div>\n",
       "<style scoped>\n",
       "    .dataframe tbody tr th:only-of-type {\n",
       "        vertical-align: middle;\n",
       "    }\n",
       "\n",
       "    .dataframe tbody tr th {\n",
       "        vertical-align: top;\n",
       "    }\n",
       "\n",
       "    .dataframe thead th {\n",
       "        text-align: right;\n",
       "    }\n",
       "</style>\n",
       "<table border=\"1\" class=\"dataframe\">\n",
       "  <thead>\n",
       "    <tr style=\"text-align: right;\">\n",
       "      <th></th>\n",
       "      <th>lineID</th>\n",
       "      <th>characterID</th>\n",
       "      <th>movieID</th>\n",
       "      <th>character name</th>\n",
       "      <th>text of the utterance</th>\n",
       "    </tr>\n",
       "  </thead>\n",
       "  <tbody>\n",
       "    <tr>\n",
       "      <th>0</th>\n",
       "      <td>L1045</td>\n",
       "      <td>u0</td>\n",
       "      <td>m0</td>\n",
       "      <td>BIANCA</td>\n",
       "      <td>They do not!</td>\n",
       "    </tr>\n",
       "    <tr>\n",
       "      <th>1</th>\n",
       "      <td>L1044</td>\n",
       "      <td>u2</td>\n",
       "      <td>m0</td>\n",
       "      <td>CAMERON</td>\n",
       "      <td>They do to!</td>\n",
       "    </tr>\n",
       "    <tr>\n",
       "      <th>2</th>\n",
       "      <td>L985</td>\n",
       "      <td>u0</td>\n",
       "      <td>m0</td>\n",
       "      <td>BIANCA</td>\n",
       "      <td>I hope so.</td>\n",
       "    </tr>\n",
       "    <tr>\n",
       "      <th>3</th>\n",
       "      <td>L984</td>\n",
       "      <td>u2</td>\n",
       "      <td>m0</td>\n",
       "      <td>CAMERON</td>\n",
       "      <td>She okay?</td>\n",
       "    </tr>\n",
       "    <tr>\n",
       "      <th>4</th>\n",
       "      <td>L925</td>\n",
       "      <td>u0</td>\n",
       "      <td>m0</td>\n",
       "      <td>BIANCA</td>\n",
       "      <td>Let's go.</td>\n",
       "    </tr>\n",
       "    <tr>\n",
       "      <th>...</th>\n",
       "      <td>...</td>\n",
       "      <td>...</td>\n",
       "      <td>...</td>\n",
       "      <td>...</td>\n",
       "      <td>...</td>\n",
       "    </tr>\n",
       "    <tr>\n",
       "      <th>304708</th>\n",
       "      <td>L666371</td>\n",
       "      <td>u9030</td>\n",
       "      <td>m616</td>\n",
       "      <td>DURNFORD</td>\n",
       "      <td>Lord Chelmsford seems to want me to stay back ...</td>\n",
       "    </tr>\n",
       "    <tr>\n",
       "      <th>304709</th>\n",
       "      <td>L666370</td>\n",
       "      <td>u9034</td>\n",
       "      <td>m616</td>\n",
       "      <td>VEREKER</td>\n",
       "      <td>I'm to take the Sikali with the main column to...</td>\n",
       "    </tr>\n",
       "    <tr>\n",
       "      <th>304710</th>\n",
       "      <td>L666369</td>\n",
       "      <td>u9030</td>\n",
       "      <td>m616</td>\n",
       "      <td>DURNFORD</td>\n",
       "      <td>Your orders, Mr Vereker?</td>\n",
       "    </tr>\n",
       "    <tr>\n",
       "      <th>304711</th>\n",
       "      <td>L666257</td>\n",
       "      <td>u9030</td>\n",
       "      <td>m616</td>\n",
       "      <td>DURNFORD</td>\n",
       "      <td>Good ones, yes, Mr Vereker. Gentlemen who can ...</td>\n",
       "    </tr>\n",
       "    <tr>\n",
       "      <th>304712</th>\n",
       "      <td>L666256</td>\n",
       "      <td>u9034</td>\n",
       "      <td>m616</td>\n",
       "      <td>VEREKER</td>\n",
       "      <td>Colonel Durnford... William Vereker. I hear yo...</td>\n",
       "    </tr>\n",
       "  </tbody>\n",
       "</table>\n",
       "<p>304713 rows × 5 columns</p>\n",
       "</div>"
      ],
      "text/plain": [
       "         lineID characterID movieID character name  \\\n",
       "0         L1045          u0      m0         BIANCA   \n",
       "1         L1044          u2      m0        CAMERON   \n",
       "2          L985          u0      m0         BIANCA   \n",
       "3          L984          u2      m0        CAMERON   \n",
       "4          L925          u0      m0         BIANCA   \n",
       "...         ...         ...     ...            ...   \n",
       "304708  L666371       u9030    m616       DURNFORD   \n",
       "304709  L666370       u9034    m616        VEREKER   \n",
       "304710  L666369       u9030    m616       DURNFORD   \n",
       "304711  L666257       u9030    m616       DURNFORD   \n",
       "304712  L666256       u9034    m616        VEREKER   \n",
       "\n",
       "                                    text of the utterance  \n",
       "0                                            They do not!  \n",
       "1                                             They do to!  \n",
       "2                                              I hope so.  \n",
       "3                                               She okay?  \n",
       "4                                               Let's go.  \n",
       "...                                                   ...  \n",
       "304708  Lord Chelmsford seems to want me to stay back ...  \n",
       "304709  I'm to take the Sikali with the main column to...  \n",
       "304710                           Your orders, Mr Vereker?  \n",
       "304711  Good ones, yes, Mr Vereker. Gentlemen who can ...  \n",
       "304712  Colonel Durnford... William Vereker. I hear yo...  \n",
       "\n",
       "[304713 rows x 5 columns]"
      ]
     },
     "execution_count": 2,
     "metadata": {},
     "output_type": "execute_result"
    }
   ],
   "source": [
    "replicas_df = pd.read_csv('movie_lines.txt', sep= \" ::: \" , encoding = 'Windows-1251', engine='python', header=None)\n",
    "replicas_df.columns = ['lineID', 'characterID', 'movieID', 'character name', 'text of the utterance']\n",
    "replicas_df"
   ]
  },
  {
   "cell_type": "code",
   "execution_count": 3,
   "metadata": {
    "colab": {
     "base_uri": "https://localhost:8080/",
     "height": 424
    },
    "executionInfo": {
     "elapsed": 819,
     "status": "ok",
     "timestamp": 1662794159274,
     "user": {
      "displayName": "Михаил Архипов",
      "userId": "10246866371929740571"
     },
     "user_tz": -180
    },
    "id": "iaK0xNaH55uA",
    "outputId": "bf2b1d93-11b4-4b32-eded-7fa19762c7d3"
   },
   "outputs": [
    {
     "data": {
      "text/html": [
       "<div>\n",
       "<style scoped>\n",
       "    .dataframe tbody tr th:only-of-type {\n",
       "        vertical-align: middle;\n",
       "    }\n",
       "\n",
       "    .dataframe tbody tr th {\n",
       "        vertical-align: top;\n",
       "    }\n",
       "\n",
       "    .dataframe thead th {\n",
       "        text-align: right;\n",
       "    }\n",
       "</style>\n",
       "<table border=\"1\" class=\"dataframe\">\n",
       "  <thead>\n",
       "    <tr style=\"text-align: right;\">\n",
       "      <th></th>\n",
       "      <th>characterID_1</th>\n",
       "      <th>characterID_2</th>\n",
       "      <th>movieID</th>\n",
       "      <th>list of the utterances</th>\n",
       "    </tr>\n",
       "  </thead>\n",
       "  <tbody>\n",
       "    <tr>\n",
       "      <th>0</th>\n",
       "      <td>u0</td>\n",
       "      <td>u2</td>\n",
       "      <td>m0</td>\n",
       "      <td>['L194', 'L195', 'L196', 'L197']</td>\n",
       "    </tr>\n",
       "    <tr>\n",
       "      <th>1</th>\n",
       "      <td>u0</td>\n",
       "      <td>u2</td>\n",
       "      <td>m0</td>\n",
       "      <td>['L198', 'L199']</td>\n",
       "    </tr>\n",
       "    <tr>\n",
       "      <th>2</th>\n",
       "      <td>u0</td>\n",
       "      <td>u2</td>\n",
       "      <td>m0</td>\n",
       "      <td>['L200', 'L201', 'L202', 'L203']</td>\n",
       "    </tr>\n",
       "    <tr>\n",
       "      <th>3</th>\n",
       "      <td>u0</td>\n",
       "      <td>u2</td>\n",
       "      <td>m0</td>\n",
       "      <td>['L204', 'L205', 'L206']</td>\n",
       "    </tr>\n",
       "    <tr>\n",
       "      <th>4</th>\n",
       "      <td>u0</td>\n",
       "      <td>u2</td>\n",
       "      <td>m0</td>\n",
       "      <td>['L207', 'L208']</td>\n",
       "    </tr>\n",
       "    <tr>\n",
       "      <th>...</th>\n",
       "      <td>...</td>\n",
       "      <td>...</td>\n",
       "      <td>...</td>\n",
       "      <td>...</td>\n",
       "    </tr>\n",
       "    <tr>\n",
       "      <th>83092</th>\n",
       "      <td>u9028</td>\n",
       "      <td>u9031</td>\n",
       "      <td>m616</td>\n",
       "      <td>['L666324', 'L666325', 'L666326', 'L666327']</td>\n",
       "    </tr>\n",
       "    <tr>\n",
       "      <th>83093</th>\n",
       "      <td>u9028</td>\n",
       "      <td>u9031</td>\n",
       "      <td>m616</td>\n",
       "      <td>['L666575', 'L666576']</td>\n",
       "    </tr>\n",
       "    <tr>\n",
       "      <th>83094</th>\n",
       "      <td>u9030</td>\n",
       "      <td>u9034</td>\n",
       "      <td>m616</td>\n",
       "      <td>['L666256', 'L666257']</td>\n",
       "    </tr>\n",
       "    <tr>\n",
       "      <th>83095</th>\n",
       "      <td>u9030</td>\n",
       "      <td>u9034</td>\n",
       "      <td>m616</td>\n",
       "      <td>['L666369', 'L666370', 'L666371', 'L666372']</td>\n",
       "    </tr>\n",
       "    <tr>\n",
       "      <th>83096</th>\n",
       "      <td>u9030</td>\n",
       "      <td>u9034</td>\n",
       "      <td>m616</td>\n",
       "      <td>['L666520', 'L666521', 'L666522']</td>\n",
       "    </tr>\n",
       "  </tbody>\n",
       "</table>\n",
       "<p>83097 rows × 4 columns</p>\n",
       "</div>"
      ],
      "text/plain": [
       "      characterID_1 characterID_2 movieID  \\\n",
       "0                u0            u2      m0   \n",
       "1                u0            u2      m0   \n",
       "2                u0            u2      m0   \n",
       "3                u0            u2      m0   \n",
       "4                u0            u2      m0   \n",
       "...             ...           ...     ...   \n",
       "83092         u9028         u9031    m616   \n",
       "83093         u9028         u9031    m616   \n",
       "83094         u9030         u9034    m616   \n",
       "83095         u9030         u9034    m616   \n",
       "83096         u9030         u9034    m616   \n",
       "\n",
       "                             list of the utterances  \n",
       "0                  ['L194', 'L195', 'L196', 'L197']  \n",
       "1                                  ['L198', 'L199']  \n",
       "2                  ['L200', 'L201', 'L202', 'L203']  \n",
       "3                          ['L204', 'L205', 'L206']  \n",
       "4                                  ['L207', 'L208']  \n",
       "...                                             ...  \n",
       "83092  ['L666324', 'L666325', 'L666326', 'L666327']  \n",
       "83093                        ['L666575', 'L666576']  \n",
       "83094                        ['L666256', 'L666257']  \n",
       "83095  ['L666369', 'L666370', 'L666371', 'L666372']  \n",
       "83096             ['L666520', 'L666521', 'L666522']  \n",
       "\n",
       "[83097 rows x 4 columns]"
      ]
     },
     "execution_count": 3,
     "metadata": {},
     "output_type": "execute_result"
    }
   ],
   "source": [
    "dialogues_df = pd.read_csv('movie_conversations.txt', sep= \" ::: \" , encoding = 'Windows-1251', engine='python', header=None)\n",
    "dialogues_df.columns = ['characterID_1', 'characterID_2', 'movieID', 'list of the utterances']\n",
    "dialogues_df"
   ]
  },
  {
   "cell_type": "code",
   "execution_count": 4,
   "metadata": {
    "colab": {
     "base_uri": "https://localhost:8080/",
     "height": 424
    },
    "executionInfo": {
     "elapsed": 128,
     "status": "ok",
     "timestamp": 1662794159274,
     "user": {
      "displayName": "Михаил Архипов",
      "userId": "10246866371929740571"
     },
     "user_tz": -180
    },
    "id": "tiJQ1Tvh55uB",
    "outputId": "ccfc1709-fe7c-4bcc-a406-032b6b53f64f"
   },
   "outputs": [
    {
     "data": {
      "text/html": [
       "<div>\n",
       "<style scoped>\n",
       "    .dataframe tbody tr th:only-of-type {\n",
       "        vertical-align: middle;\n",
       "    }\n",
       "\n",
       "    .dataframe tbody tr th {\n",
       "        vertical-align: top;\n",
       "    }\n",
       "\n",
       "    .dataframe thead th {\n",
       "        text-align: right;\n",
       "    }\n",
       "</style>\n",
       "<table border=\"1\" class=\"dataframe\">\n",
       "  <thead>\n",
       "    <tr style=\"text-align: right;\">\n",
       "      <th></th>\n",
       "      <th>movieID</th>\n",
       "      <th>movie title</th>\n",
       "      <th>movie year</th>\n",
       "      <th>IMDB rating</th>\n",
       "      <th>no. IMDB votes</th>\n",
       "      <th>genres</th>\n",
       "    </tr>\n",
       "  </thead>\n",
       "  <tbody>\n",
       "    <tr>\n",
       "      <th>0</th>\n",
       "      <td>m0</td>\n",
       "      <td>10 things i hate about you</td>\n",
       "      <td>1999</td>\n",
       "      <td>6.9</td>\n",
       "      <td>62847</td>\n",
       "      <td>['comedy', 'romance']</td>\n",
       "    </tr>\n",
       "    <tr>\n",
       "      <th>1</th>\n",
       "      <td>m1</td>\n",
       "      <td>1492: conquest of paradise</td>\n",
       "      <td>1992</td>\n",
       "      <td>6.2</td>\n",
       "      <td>10421</td>\n",
       "      <td>['adventure', 'biography', 'drama', 'history']</td>\n",
       "    </tr>\n",
       "    <tr>\n",
       "      <th>2</th>\n",
       "      <td>m2</td>\n",
       "      <td>15 minutes</td>\n",
       "      <td>2001</td>\n",
       "      <td>6.1</td>\n",
       "      <td>25854</td>\n",
       "      <td>['action', 'crime', 'drama', 'thriller']</td>\n",
       "    </tr>\n",
       "    <tr>\n",
       "      <th>3</th>\n",
       "      <td>m3</td>\n",
       "      <td>2001: a space odyssey</td>\n",
       "      <td>1968</td>\n",
       "      <td>8.4</td>\n",
       "      <td>163227</td>\n",
       "      <td>['adventure', 'mystery', 'sci-fi']</td>\n",
       "    </tr>\n",
       "    <tr>\n",
       "      <th>4</th>\n",
       "      <td>m4</td>\n",
       "      <td>48 hrs.</td>\n",
       "      <td>1982</td>\n",
       "      <td>6.9</td>\n",
       "      <td>22289</td>\n",
       "      <td>['action', 'comedy', 'crime', 'drama', 'thrill...</td>\n",
       "    </tr>\n",
       "    <tr>\n",
       "      <th>...</th>\n",
       "      <td>...</td>\n",
       "      <td>...</td>\n",
       "      <td>...</td>\n",
       "      <td>...</td>\n",
       "      <td>...</td>\n",
       "      <td>...</td>\n",
       "    </tr>\n",
       "    <tr>\n",
       "      <th>612</th>\n",
       "      <td>m612</td>\n",
       "      <td>watchmen</td>\n",
       "      <td>2009</td>\n",
       "      <td>7.8</td>\n",
       "      <td>135229</td>\n",
       "      <td>['action', 'crime', 'fantasy', 'mystery', 'sci...</td>\n",
       "    </tr>\n",
       "    <tr>\n",
       "      <th>613</th>\n",
       "      <td>m613</td>\n",
       "      <td>xxx</td>\n",
       "      <td>2002</td>\n",
       "      <td>5.6</td>\n",
       "      <td>53505</td>\n",
       "      <td>['action', 'adventure', 'crime']</td>\n",
       "    </tr>\n",
       "    <tr>\n",
       "      <th>614</th>\n",
       "      <td>m614</td>\n",
       "      <td>x-men</td>\n",
       "      <td>2000</td>\n",
       "      <td>7.4</td>\n",
       "      <td>122149</td>\n",
       "      <td>['action', 'sci-fi']</td>\n",
       "    </tr>\n",
       "    <tr>\n",
       "      <th>615</th>\n",
       "      <td>m615</td>\n",
       "      <td>young frankenstein</td>\n",
       "      <td>1974</td>\n",
       "      <td>8.0</td>\n",
       "      <td>57618</td>\n",
       "      <td>['comedy', 'sci-fi']</td>\n",
       "    </tr>\n",
       "    <tr>\n",
       "      <th>616</th>\n",
       "      <td>m616</td>\n",
       "      <td>zulu dawn</td>\n",
       "      <td>1979</td>\n",
       "      <td>6.4</td>\n",
       "      <td>1911</td>\n",
       "      <td>['action', 'adventure', 'drama', 'history', 'w...</td>\n",
       "    </tr>\n",
       "  </tbody>\n",
       "</table>\n",
       "<p>617 rows × 6 columns</p>\n",
       "</div>"
      ],
      "text/plain": [
       "    movieID                 movie title movie year  IMDB rating  \\\n",
       "0        m0  10 things i hate about you       1999          6.9   \n",
       "1        m1  1492: conquest of paradise       1992          6.2   \n",
       "2        m2                  15 minutes       2001          6.1   \n",
       "3        m3       2001: a space odyssey       1968          8.4   \n",
       "4        m4                     48 hrs.       1982          6.9   \n",
       "..      ...                         ...        ...          ...   \n",
       "612    m612                    watchmen       2009          7.8   \n",
       "613    m613                         xxx       2002          5.6   \n",
       "614    m614                       x-men       2000          7.4   \n",
       "615    m615          young frankenstein       1974          8.0   \n",
       "616    m616                   zulu dawn       1979          6.4   \n",
       "\n",
       "     no. IMDB votes                                             genres  \n",
       "0             62847                              ['comedy', 'romance']  \n",
       "1             10421     ['adventure', 'biography', 'drama', 'history']  \n",
       "2             25854           ['action', 'crime', 'drama', 'thriller']  \n",
       "3            163227                 ['adventure', 'mystery', 'sci-fi']  \n",
       "4             22289  ['action', 'comedy', 'crime', 'drama', 'thrill...  \n",
       "..              ...                                                ...  \n",
       "612          135229  ['action', 'crime', 'fantasy', 'mystery', 'sci...  \n",
       "613           53505                   ['action', 'adventure', 'crime']  \n",
       "614          122149                               ['action', 'sci-fi']  \n",
       "615           57618                               ['comedy', 'sci-fi']  \n",
       "616            1911  ['action', 'adventure', 'drama', 'history', 'w...  \n",
       "\n",
       "[617 rows x 6 columns]"
      ]
     },
     "execution_count": 4,
     "metadata": {},
     "output_type": "execute_result"
    }
   ],
   "source": [
    "movies_df = pd.read_csv('movie_titles_metadata.txt', sep= \" ::: \" , encoding = 'Windows-1251', engine='python', header=None)\n",
    "movies_df.columns = ['movieID', 'movie title', 'movie year', 'IMDB rating', 'no. IMDB votes', 'genres']\n",
    "movies_df"
   ]
  },
  {
   "cell_type": "code",
   "execution_count": 5,
   "metadata": {
    "colab": {
     "base_uri": "https://localhost:8080/",
     "height": 424
    },
    "executionInfo": {
     "elapsed": 38,
     "status": "ok",
     "timestamp": 1662794159275,
     "user": {
      "displayName": "Михаил Архипов",
      "userId": "10246866371929740571"
     },
     "user_tz": -180
    },
    "id": "CjxGkY0C55uB",
    "outputId": "0c636313-2c41-4d8d-cc4b-15d686c28a19"
   },
   "outputs": [
    {
     "data": {
      "text/html": [
       "<div>\n",
       "<style scoped>\n",
       "    .dataframe tbody tr th:only-of-type {\n",
       "        vertical-align: middle;\n",
       "    }\n",
       "\n",
       "    .dataframe tbody tr th {\n",
       "        vertical-align: top;\n",
       "    }\n",
       "\n",
       "    .dataframe thead th {\n",
       "        text-align: right;\n",
       "    }\n",
       "</style>\n",
       "<table border=\"1\" class=\"dataframe\">\n",
       "  <thead>\n",
       "    <tr style=\"text-align: right;\">\n",
       "      <th></th>\n",
       "      <th>characterID</th>\n",
       "      <th>character name</th>\n",
       "      <th>movieID</th>\n",
       "      <th>movie title</th>\n",
       "      <th>gender</th>\n",
       "      <th>position in credits</th>\n",
       "    </tr>\n",
       "  </thead>\n",
       "  <tbody>\n",
       "    <tr>\n",
       "      <th>0</th>\n",
       "      <td>u0</td>\n",
       "      <td>BIANCA</td>\n",
       "      <td>m0</td>\n",
       "      <td>10 things i hate about you</td>\n",
       "      <td>f</td>\n",
       "      <td>4</td>\n",
       "    </tr>\n",
       "    <tr>\n",
       "      <th>1</th>\n",
       "      <td>u1</td>\n",
       "      <td>BRUCE</td>\n",
       "      <td>m0</td>\n",
       "      <td>10 things i hate about you</td>\n",
       "      <td>?</td>\n",
       "      <td>?</td>\n",
       "    </tr>\n",
       "    <tr>\n",
       "      <th>2</th>\n",
       "      <td>u2</td>\n",
       "      <td>CAMERON</td>\n",
       "      <td>m0</td>\n",
       "      <td>10 things i hate about you</td>\n",
       "      <td>m</td>\n",
       "      <td>3</td>\n",
       "    </tr>\n",
       "    <tr>\n",
       "      <th>3</th>\n",
       "      <td>u3</td>\n",
       "      <td>CHASTITY</td>\n",
       "      <td>m0</td>\n",
       "      <td>10 things i hate about you</td>\n",
       "      <td>?</td>\n",
       "      <td>?</td>\n",
       "    </tr>\n",
       "    <tr>\n",
       "      <th>4</th>\n",
       "      <td>u4</td>\n",
       "      <td>JOEY</td>\n",
       "      <td>m0</td>\n",
       "      <td>10 things i hate about you</td>\n",
       "      <td>m</td>\n",
       "      <td>6</td>\n",
       "    </tr>\n",
       "    <tr>\n",
       "      <th>...</th>\n",
       "      <td>...</td>\n",
       "      <td>...</td>\n",
       "      <td>...</td>\n",
       "      <td>...</td>\n",
       "      <td>...</td>\n",
       "      <td>...</td>\n",
       "    </tr>\n",
       "    <tr>\n",
       "      <th>9030</th>\n",
       "      <td>u9030</td>\n",
       "      <td>DURNFORD</td>\n",
       "      <td>m616</td>\n",
       "      <td>zulu dawn</td>\n",
       "      <td>?</td>\n",
       "      <td>?</td>\n",
       "    </tr>\n",
       "    <tr>\n",
       "      <th>9031</th>\n",
       "      <td>u9031</td>\n",
       "      <td>MELVILL</td>\n",
       "      <td>m616</td>\n",
       "      <td>zulu dawn</td>\n",
       "      <td>?</td>\n",
       "      <td>?</td>\n",
       "    </tr>\n",
       "    <tr>\n",
       "      <th>9032</th>\n",
       "      <td>u9032</td>\n",
       "      <td>NORRIS-NEWMAN</td>\n",
       "      <td>m616</td>\n",
       "      <td>zulu dawn</td>\n",
       "      <td>?</td>\n",
       "      <td>?</td>\n",
       "    </tr>\n",
       "    <tr>\n",
       "      <th>9033</th>\n",
       "      <td>u9033</td>\n",
       "      <td>STUART SMITH</td>\n",
       "      <td>m616</td>\n",
       "      <td>zulu dawn</td>\n",
       "      <td>?</td>\n",
       "      <td>?</td>\n",
       "    </tr>\n",
       "    <tr>\n",
       "      <th>9034</th>\n",
       "      <td>u9034</td>\n",
       "      <td>VEREKER</td>\n",
       "      <td>m616</td>\n",
       "      <td>zulu dawn</td>\n",
       "      <td>?</td>\n",
       "      <td>?</td>\n",
       "    </tr>\n",
       "  </tbody>\n",
       "</table>\n",
       "<p>9035 rows × 6 columns</p>\n",
       "</div>"
      ],
      "text/plain": [
       "     characterID character name movieID                 movie title gender  \\\n",
       "0             u0         BIANCA      m0  10 things i hate about you      f   \n",
       "1             u1          BRUCE      m0  10 things i hate about you      ?   \n",
       "2             u2        CAMERON      m0  10 things i hate about you      m   \n",
       "3             u3       CHASTITY      m0  10 things i hate about you      ?   \n",
       "4             u4           JOEY      m0  10 things i hate about you      m   \n",
       "...          ...            ...     ...                         ...    ...   \n",
       "9030       u9030       DURNFORD    m616                   zulu dawn      ?   \n",
       "9031       u9031        MELVILL    m616                   zulu dawn      ?   \n",
       "9032       u9032  NORRIS-NEWMAN    m616                   zulu dawn      ?   \n",
       "9033       u9033   STUART SMITH    m616                   zulu dawn      ?   \n",
       "9034       u9034        VEREKER    m616                   zulu dawn      ?   \n",
       "\n",
       "     position in credits  \n",
       "0                      4  \n",
       "1                      ?  \n",
       "2                      3  \n",
       "3                      ?  \n",
       "4                      6  \n",
       "...                  ...  \n",
       "9030                   ?  \n",
       "9031                   ?  \n",
       "9032                   ?  \n",
       "9033                   ?  \n",
       "9034                   ?  \n",
       "\n",
       "[9035 rows x 6 columns]"
      ]
     },
     "execution_count": 5,
     "metadata": {},
     "output_type": "execute_result"
    }
   ],
   "source": [
    "characters_df = pd.read_csv('movie_characters_metadata.txt', sep= \" ::: \" , encoding = 'Windows-1251', engine='python', header=None)\n",
    "characters_df.columns = ['characterID', 'character name', 'movieID', 'movie title', 'gender', 'position in credits']\n",
    "characters_df"
   ]
  },
  {
   "cell_type": "markdown",
   "metadata": {},
   "source": [
    "Посмотрим пример одногшо из диалогов"
   ]
  },
  {
   "cell_type": "code",
   "execution_count": 6,
   "metadata": {
    "colab": {
     "base_uri": "https://localhost:8080/"
    },
    "executionInfo": {
     "elapsed": 8,
     "status": "ok",
     "timestamp": 1662794159857,
     "user": {
      "displayName": "Михаил Архипов",
      "userId": "10246866371929740571"
     },
     "user_tz": -180
    },
    "id": "xmNGELSA55uC",
    "outputId": "b21b0a6e-5f65-4e2a-dc5d-b32d08d230ee"
   },
   "outputs": [
    {
     "name": "stdout",
     "output_type": "stream",
     "text": [
      "Can we make this quick?  Roxanne Korrine and Andrew Barrett are having an incredibly horrendous public break- up on the quad.  Again.\n",
      "Well, I thought we'd start with pronunciation, if that's okay with you.\n",
      "Not the hacking and gagging and spitting part.  Please.\n",
      "Okay... then how 'bout we try out some French cuisine.  Saturday?  Night?\n"
     ]
    }
   ],
   "source": [
    "for row in replicas_df[replicas_df.lineID.isin(['L194', 'L195', 'L196', 'L197'])].sort_values('lineID')['text of the utterance']:\n",
    "    print(row)"
   ]
  },
  {
   "cell_type": "markdown",
   "metadata": {},
   "source": [
    "Далее логика была такая. Для обучения нам нужна реплика одного персонажа и ответ другого -вход и выход декодера. Поэтому берем каждый диалог. Если число реплик нечетное - значит одна из реплик осталась без ответа. Отбрасываем ее. И формируем два списка реплик - input_texts и target_texts. Вначале я так и сделал (см. закомментированный код ниже) и, забегая вперед, при этом максимальная длина реплики, до которой далее добивались все остальные реплики, составила около 500 слов. Тогда количество параметров просто зашкаливало и оперативки просто не хватало."
   ]
  },
  {
   "cell_type": "code",
   "execution_count": null,
   "metadata": {
    "id": "tFAK36_k55uD"
   },
   "outputs": [],
   "source": [
    "# input_texts = []\n",
    "# target_texts = []\n",
    "# for dialog in dialogues_df['list of the utterances']:\n",
    "#     dialog_list = dialog[1:-1].split(', ')\n",
    "#     replicas_num = len(dialog_list)\n",
    "#     if replicas_num > 1:\n",
    "#         for i in range(len(dialog_list) // 2):\n",
    "#             input_text = replicas_df[replicas_df['lineID'] == dialog_list[i * 2][1:-1]].iloc[0]['text of the utterance']\n",
    "#             target_text = replicas_df[replicas_df['lineID'] == dialog_list[i * 2 + 1][1:-1]].iloc[0]['text of the utterance']\n",
    "#             input_texts.append(input_text)\n",
    "#             target_texts.append(target_text)"
   ]
  },
  {
   "cell_type": "code",
   "execution_count": null,
   "metadata": {},
   "outputs": [],
   "source": [
    "# input_idxs_to_del = [i for i, v in enumerate(input_texts) if v == None]\n",
    "# for i in sorted(input_idxs_to_del, reverse=True):\n",
    "#     del input_texts[i]\n",
    "#     del target_texts[i]\n",
    "# target_idxs_to_del = [i for i, v in enumerate(target_texts) if v == None]\n",
    "# for i in sorted(target_idxs_to_del, reverse=True):\n",
    "#     del input_texts[i]\n",
    "#     del target_texts[i]"
   ]
  },
  {
   "cell_type": "code",
   "execution_count": null,
   "metadata": {
    "id": "1TN_LSpk55uE"
   },
   "outputs": [],
   "source": [
    "# with open(\"input_texts.txt\", \"wb\") as myFile:\n",
    "#     pickle.dump(input_texts, myFile)\n",
    "# with open(\"target_texts.txt\", \"wb\") as myFile:\n",
    "#     pickle.dump(target_texts, myFile)"
   ]
  },
  {
   "cell_type": "markdown",
   "metadata": {},
   "source": [
    "Но нам по логике такая длина не нужна, ведь чат бот - это короткие вопросы и ответы. Такие длинные реплики наоборот приведут при обучении к худшим результатам. Тогда я проанализировал все доступный реплики по длине. Сколько реплик попадают в какой интервал длины."
   ]
  },
  {
   "cell_type": "code",
   "execution_count": 7,
   "metadata": {},
   "outputs": [
    {
     "data": {
      "text/plain": [
       "(0.445, 30.211]       287959\n",
       "(30.211, 59.421]       13782\n",
       "(59.421, 88.632]        1963\n",
       "(88.632, 117.842]        478\n",
       "(117.842, 147.053]       144\n",
       "(147.053, 176.263]        63\n",
       "(176.263, 205.474]        34\n",
       "(205.474, 234.684]         9\n",
       "(293.105, 322.316]         5\n",
       "(263.895, 293.105]         3\n",
       "(234.684, 263.895]         3\n",
       "(322.316, 351.526]         1\n",
       "(468.368, 497.579]         1\n",
       "(526.789, 556.0]           1\n",
       "(351.526, 380.737]         0\n",
       "(380.737, 409.947]         0\n",
       "(409.947, 439.158]         0\n",
       "(439.158, 468.368]         0\n",
       "(497.579, 526.789]         0\n",
       "Name: words_number, dtype: int64"
      ]
     },
     "execution_count": 7,
     "metadata": {},
     "output_type": "execute_result"
    }
   ],
   "source": [
    "replicas_df['words_number'] = replicas_df['text of the utterance'].apply(lambda x: len(x.split()) if x != None else x)\n",
    "pd.cut(replicas_df['words_number'], bins=19).value_counts()"
   ]
  },
  {
   "cell_type": "markdown",
   "metadata": {},
   "source": [
    "Как мы видим, большая часть реплик в интервале длины до 30 слов. Это уже куда лучше. Тогда формируем другие списки для обучения - input_texts_short и target_texts_short. При этом отсекаем реплики более 30 слов и если реплика пустая (None)."
   ]
  },
  {
   "cell_type": "code",
   "execution_count": null,
   "metadata": {
    "id": "qQNq7_F0EkJ4"
   },
   "outputs": [],
   "source": [
    "# input_texts_short = []\n",
    "# target_texts_short = []\n",
    "# for dialog in dialogues_df['list of the utterances']:\n",
    "#     dialog_list = dialog[1:-1].split(', ')\n",
    "#     replicas_num = len(dialog_list)\n",
    "#     if replicas_num > 1:\n",
    "#         for i in range(len(dialog_list) // 2):\n",
    "#             input_text = replicas_df[replicas_df['lineID'] == dialog_list[i * 2][1:-1]].iloc[0]['text of the utterance']\n",
    "#             target_text = replicas_df[replicas_df['lineID'] == dialog_list[i * 2 + 1][1:-1]].iloc[0]['text of the utterance']\n",
    "#             if (input_text != None) and (target_text != None):\n",
    "#                 if (len(input_text.split()) <= 30) and (len(target_text.split()) <= 30):\n",
    "#                     input_texts_short.append(input_text)\n",
    "#                     target_texts_short.append(target_text)"
   ]
  },
  {
   "cell_type": "code",
   "execution_count": null,
   "metadata": {},
   "outputs": [],
   "source": [
    "Так как это занимает некоторое время, я сохранил эти списки во внешний файл через pickle"
   ]
  },
  {
   "cell_type": "code",
   "execution_count": null,
   "metadata": {
    "id": "Tnsx_faHEkJ5"
   },
   "outputs": [],
   "source": [
    "# with open(\"input_texts_short.txt\", \"wb\") as myFile:\n",
    "#     pickle.dump(input_texts_short, myFile)\n",
    "# with open(\"target_texts_short.txt\", \"wb\") as myFile:\n",
    "#     pickle.dump(target_texts_short, myFile)"
   ]
  },
  {
   "cell_type": "code",
   "execution_count": null,
   "metadata": {},
   "outputs": [],
   "source": [
    "Теперь с любого из моих компьютеров я просто загружаю их в jupyter notebook и работаю с ними"
   ]
  },
  {
   "cell_type": "code",
   "execution_count": 8,
   "metadata": {
    "executionInfo": {
     "elapsed": 443,
     "status": "ok",
     "timestamp": 1662794161828,
     "user": {
      "displayName": "Михаил Архипов",
      "userId": "10246866371929740571"
     },
     "user_tz": -180
    },
    "id": "CHcWrT5duWGu"
   },
   "outputs": [],
   "source": [
    "with open(\"input_texts_short.txt\", \"rb\") as myFile:\n",
    "    input_texts = pickle.load(myFile)\n",
    "with open(\"target_texts_short.txt\", \"rb\") as myFile:\n",
    "    target_texts = pickle.load(myFile)"
   ]
  },
  {
   "cell_type": "markdown",
   "metadata": {},
   "source": [
    "Вот столько реплик получилось"
   ]
  },
  {
   "cell_type": "code",
   "execution_count": 9,
   "metadata": {
    "colab": {
     "base_uri": "https://localhost:8080/"
    },
    "executionInfo": {
     "elapsed": 403,
     "status": "ok",
     "timestamp": 1662794163835,
     "user": {
      "displayName": "Михаил Архипов",
      "userId": "10246866371929740571"
     },
     "user_tz": -180
    },
    "id": "CFnkkKOO55uF",
    "outputId": "089ffcf5-4207-4a52-fcca-8451a24301e2"
   },
   "outputs": [
    {
     "data": {
      "text/plain": [
       "(124082, 124082)"
      ]
     },
     "execution_count": 9,
     "metadata": {},
     "output_type": "execute_result"
    }
   ],
   "source": [
    "len(input_texts), len(target_texts)"
   ]
  },
  {
   "cell_type": "markdown",
   "metadata": {
    "id": "eVXrRV2PW4Lf"
   },
   "source": [
    "### Подготовка словарей\n",
    "\n",
    "Составим словари из слов, добавив символ начала <START>, символ конца <END> и пробел, как элемент для паддинга цепочек, короче самой длинной."
   ]
  },
  {
   "cell_type": "code",
   "execution_count": 10,
   "metadata": {
    "executionInfo": {
     "elapsed": 1495,
     "status": "ok",
     "timestamp": 1662794169610,
     "user": {
      "displayName": "Михаил Архипов",
      "userId": "10246866371929740571"
     },
     "user_tz": -180
    },
    "id": "KdTllVeCrQuI"
   },
   "outputs": [],
   "source": [
    "def prepare_vocab(texts):\n",
    "    vocab = sorted(set(' '.join(texts).split()))\n",
    "    vocab.append('<START>')\n",
    "    vocab.append('<END>')\n",
    "    vocab.append(' ')\n",
    "    vocab_size = len(vocab)\n",
    "    word2idx = {u:i for i, u in enumerate(vocab)}\n",
    "    idx2word = np.array(vocab)\n",
    "    return vocab_size, word2idx, idx2word\n",
    "\n",
    "INPUT_VOCAB_SIZE, input_word2idx, input_idx2word = prepare_vocab(input_texts)\n",
    "TARGET_VOCAB_SIZE, target_word2idx, target_idx2word = prepare_vocab(target_texts)"
   ]
  },
  {
   "cell_type": "code",
   "execution_count": 11,
   "metadata": {
    "colab": {
     "base_uri": "https://localhost:8080/"
    },
    "executionInfo": {
     "elapsed": 423,
     "status": "ok",
     "timestamp": 1662794170504,
     "user": {
      "displayName": "Михаил Архипов",
      "userId": "10246866371929740571"
     },
     "user_tz": -180
    },
    "id": "CmSqk86W2zt6",
    "outputId": "68649a5a-4fe4-4d13-c258-8445002bf5ac"
   },
   "outputs": [
    {
     "name": "stdout",
     "output_type": "stream",
     "text": [
      "84870 81724\n"
     ]
    }
   ],
   "source": [
    "print(INPUT_VOCAB_SIZE, TARGET_VOCAB_SIZE)"
   ]
  },
  {
   "cell_type": "markdown",
   "metadata": {
    "id": "2dvz4PBoYKSy"
   },
   "source": [
    "### Подготовка обучающего датасета\n",
    "\n",
    "\n"
   ]
  },
  {
   "cell_type": "code",
   "execution_count": 12,
   "metadata": {
    "executionInfo": {
     "elapsed": 2421,
     "status": "ok",
     "timestamp": 1662794175093,
     "user": {
      "displayName": "Михаил Архипов",
      "userId": "10246866371929740571"
     },
     "user_tz": -180
    },
    "id": "ptvZBL0DrjSA"
   },
   "outputs": [],
   "source": [
    "input_texts_as_int = [[input_word2idx[c] for c in text.split()] for text in input_texts]\n",
    "target_texts_as_int = [[target_word2idx[c] for c in text.split()] for text in target_texts]\n",
    "\n",
    "encoder_input_seqs = [np.array(text) for text in input_texts_as_int]\n",
    "decoder_input_seqs = []\n",
    "decoder_target_seqs = []\n",
    "for target_text in target_texts_as_int:\n",
    "    decoder_input_seqs.append(np.array([target_word2idx['<START>']] + target_text))\n",
    "    decoder_target_seqs.append(np.array(target_text + [target_word2idx['<END>']]))"
   ]
  },
  {
   "cell_type": "markdown",
   "metadata": {
    "id": "Ee7NkLh-a9Cc"
   },
   "source": [
    "### Паддинг цепочек\n"
   ]
  },
  {
   "cell_type": "code",
   "execution_count": 13,
   "metadata": {
    "colab": {
     "base_uri": "https://localhost:8080/"
    },
    "executionInfo": {
     "elapsed": 7876,
     "status": "ok",
     "timestamp": 1662794182959,
     "user": {
      "displayName": "Михаил Архипов",
      "userId": "10246866371929740571"
     },
     "user_tz": -180
    },
    "id": "gMk-6fNdx5Ff",
    "outputId": "7994c163-c365-45af-abc0-eb7cfa6cdeb1"
   },
   "outputs": [
    {
     "name": "stdout",
     "output_type": "stream",
     "text": [
      "30 31\n"
     ]
    }
   ],
   "source": [
    "max_enc_seq_length = max([len(seq) for seq in encoder_input_seqs]) # 30\n",
    "max_dec_seq_length = max([len(seq) for seq in decoder_input_seqs]) # 31\n",
    "print(max_enc_seq_length, max_dec_seq_length)\n",
    "\n",
    "encoder_input_seqs = tf.keras.preprocessing.sequence.pad_sequences(\n",
    "    encoder_input_seqs,\n",
    "    value=input_word2idx[' '],\n",
    "    padding='post',\n",
    "    maxlen=max_enc_seq_length)\n",
    "\n",
    "decoder_input_seqs = tf.keras.preprocessing.sequence.pad_sequences(\n",
    "    decoder_input_seqs,\n",
    "    value=target_word2idx[' '],\n",
    "    padding='post',\n",
    "    maxlen=max_dec_seq_length)\n",
    "\n",
    "decoder_target_seqs = tf.keras.preprocessing.sequence.pad_sequences(\n",
    "    decoder_target_seqs,\n",
    "    value=target_word2idx[' '],\n",
    "    padding='post',\n",
    "    maxlen=max_dec_seq_length)"
   ]
  },
  {
   "cell_type": "markdown",
   "metadata": {
    "id": "uY-yw6zNcWdK"
   },
   "source": [
    "### Создание модели\n",
    "\n",
    "Описывать подробно как я реализовал механизм внимания долго. Все видно по коду. Не знаю, правильно или нет, но главное сам. Принцип везде описан. Вроде на словах все просто, но нюансов куча. Готовой реализации не нашел в интернете, чтоб хоть на что то ориентироваться. Вернее они есть, но зачастую с такой замороченной архитектурой, рассчитанной скорее на трансформер, наверное. Поэтому и сделал сам, как я это понял."
   ]
  },
  {
   "cell_type": "code",
   "execution_count": 14,
   "metadata": {
    "executionInfo": {
     "elapsed": 13886,
     "status": "ok",
     "timestamp": 1662794199061,
     "user": {
      "displayName": "Михаил Архипов",
      "userId": "10246866371929740571"
     },
     "user_tz": -180
    },
    "id": "_EGV0WKJ55uJ"
   },
   "outputs": [],
   "source": [
    "H_SIZE = 256 # Размерность скрытого состояния LSTM\n",
    "EMB_SIZE = 256 # размерность эмбеддингов (и для входных и для выходных цепочек)\n",
    "\n",
    "class Encoder(tf.keras.Model):\n",
    "    def __init__(self):\n",
    "        super().__init__()\n",
    "        self.embed = tf.keras.layers.Embedding(INPUT_VOCAB_SIZE, EMB_SIZE)\n",
    "        self.bi_lstm = tf.keras.layers.Bidirectional(\n",
    "            tf.keras.layers.LSTM(H_SIZE//2, return_sequences=True, return_state=True))\n",
    "        \n",
    "    def call(self, x):\n",
    "        # print('Вход в энкодер: ', x.shape)\n",
    "        out = self.embed(x)\n",
    "        # print('Эмбеддинг: ', out.shape)\n",
    "        out, h1, c1, h2, c2 = self.bi_lstm(out)\n",
    "        # print('LSTM out, h1, c1, h2, c2: ', out.shape, h1.shape, c1.shape, h2.shape, c2.shape)\n",
    "        h = tf.keras.layers.concatenate([h1, h2], axis = 1)\n",
    "        c = tf.keras.layers.concatenate([c1, c2], axis = 1)\n",
    "        state = (h, c)\n",
    "        return out, state\n",
    "\n",
    "class Attention(tf.keras.Model):\n",
    "    def __init__(self):\n",
    "        super().__init__()\n",
    "        # self.inp = tf.keras.layers.Input(shape=(None, EMB_SIZE + H_SIZE))\n",
    "        # self.w = tf.keras.layers.Dense(1, use_bias=False)\n",
    "        self.attention_model = tf.keras.Sequential(\n",
    "            [tf.keras.layers.Dense(1, use_bias=False, input_shape=(None, EMB_SIZE + H_SIZE))]\n",
    "        )\n",
    "        self.norm = tf.keras.layers.Softmax()\n",
    "    \n",
    "    def call(self, encoder_outs, decoder_memory):\n",
    "        if encoder_outs.shape[1] == None:\n",
    "            seq_length = max_enc_seq_length\n",
    "        else:\n",
    "            seq_length = encoder_outs.shape[1] \n",
    "        arrays = [decoder_memory[0] for _ in range(seq_length)]\n",
    "        decoder_memory_new = tf.stack(arrays, axis=1)\n",
    "        sum_vec = tf.concat([encoder_outs, decoder_memory_new], axis = 2)\n",
    "        # print(sum_vec)\n",
    "        # attention_model = tf.keras.Model([self.inp], self.w)\n",
    "        # normalized_weights = self.norm(self.attention_model(sum_vec).numpy().reshape(encoder_outs.shape[0], -1)).numpy()\n",
    "        normalized_weights = self.norm(self.attention_model(sum_vec)[:, :, 0])\n",
    "        # print(normalized_weights)\n",
    "        out_vector = tf.math.multiply(normalized_weights[..., tf.newaxis], encoder_outs)\n",
    "        # print(out_vector)\n",
    "        out_vector = tf.reduce_sum(out_vector, 1)        \n",
    "        return out_vector\n",
    "\n",
    "class Decoder(tf.keras.Model):\n",
    "    def __init__(self):\n",
    "        super().__init__()\n",
    "        self.embed = tf.keras.layers.Embedding(TARGET_VOCAB_SIZE, EMB_SIZE)\n",
    "        self.lstm = tf.keras.layers.LSTM(H_SIZE, return_sequences=True, return_state=True)\n",
    "        self.fc = tf.keras.layers.Dense(TARGET_VOCAB_SIZE, activation='softmax')\n",
    "        self.attention_models = [Attention() for _ in range(max_dec_seq_length)]\n",
    "        \n",
    "    def call(self, x, encoder_outs, init_state):\n",
    "        # print('Вход в декодер: ', x.shape)\n",
    "        # print('init_state: ', init_state[0].shape, init_state[1].shape)\n",
    "        # out = self.embed(x)\n",
    "        # print('Эмбеддинг: ', out.shape)\n",
    "        if encoder_outs.shape[1] == None:\n",
    "            dec_seq_length = max_dec_seq_length\n",
    "        else:\n",
    "            dec_seq_length = x.shape[1]\n",
    "        total_out = []\n",
    "        for i in range(dec_seq_length):\n",
    "            out = self.embed(x[:, i])\n",
    "            # print(out)\n",
    "            context = self.attention_models[i](encoder_outs, init_state)\n",
    "            # print(context)\n",
    "            out = tf.concat((out, context), axis = 1)\n",
    "            # print(out)\n",
    "            out, h, c = self.lstm(out[:, tf.newaxis, :], initial_state=init_state)\n",
    "            # print(out, h, c)\n",
    "            init_state = (h, c)\n",
    "            # print('LSTM out, h, c: ', out.shape, h.shape, c.shape)\n",
    "            out = self.fc(out)\n",
    "            # print(out)\n",
    "            total_out.append(out)\n",
    "        total_out = tf.concat((total_out), axis = 1)\n",
    "        # print(total_out)\n",
    "        state = (h, c)\n",
    "        return total_out, state\n",
    "\n",
    "encoder_model = Encoder()\n",
    "decoder_model = Decoder()\n",
    "\n",
    "encoder_inputs = tf.keras.layers.Input(shape=(None,))\n",
    "decoder_inputs = tf.keras.layers.Input(shape=(None,))\n",
    "\n",
    "encoder_outputs, enc_state = encoder_model(encoder_inputs)\n",
    "decoder_outputs, _ = decoder_model(decoder_inputs, encoder_outputs, enc_state)\n",
    "\n",
    "seq2seq = tf.keras.Model([encoder_inputs, decoder_inputs], decoder_outputs)"
   ]
  },
  {
   "cell_type": "code",
   "execution_count": null,
   "metadata": {},
   "outputs": [],
   "source": [
    "H_SIZE = 256  # Размерность скрытого состояния LSTM\n",
    "EMB_SIZE = 256  # размерность эмбеддингов (и для входных и для выходных цепочек)\n",
    "\n",
    "\n",
    "class Encoder(tf.keras.Model):\n",
    "    def __init__(self):\n",
    "        super().__init__()\n",
    "        self.embed = tf.keras.layers.Embedding(INPUT_VOCAB_SIZE, EMB_SIZE)\n",
    "        self.bi_lstm = tf.keras.layers.Bidirectional(\n",
    "            tf.keras.layers.LSTM(H_SIZE // 2, return_sequences=True, return_state=True)\n",
    "        )\n",
    "\n",
    "    def call(self, x):\n",
    "        # print('Вход в энкодер: ', x.shape)\n",
    "        out = self.embed(x)\n",
    "        # print('Эмбеддинг: ', out.shape)\n",
    "        out, h1, c1, h2, c2 = self.bi_lstm(out)\n",
    "        # print('LSTM out, h1, c1, h2, c2: ', out.shape, h1.shape, c1.shape, h2.shape, c2.shape)\n",
    "        h = tf.keras.layers.concatenate([h1, h2], axis=1)\n",
    "        c = tf.keras.layers.concatenate([c1, c2], axis=1)\n",
    "        state = (h, c)\n",
    "        return out, state\n",
    "\n",
    "\n",
    "class Attention(tf.keras.Model):\n",
    "    def __init__(self):\n",
    "        super().__init__()\n",
    "        self.attention_model = tf.keras.Sequential(\n",
    "            [\n",
    "                tf.keras.layers.Dense(\n",
    "                    1, use_bias=False, input_shape=(None, EMB_SIZE + H_SIZE)\n",
    "                )\n",
    "            ]\n",
    "        )\n",
    "        self.norm = tf.keras.layers.Softmax()\n",
    "\n",
    "    def call(self, encoder_outs, decoder_memory):\n",
    "        if encoder_outs.shape[1] == None:\n",
    "            seq_length = max_enc_seq_length\n",
    "        else:\n",
    "            seq_length = encoder_outs.shape[1]\n",
    "        arrays = [decoder_memory[0] for _ in range(seq_length)]\n",
    "        decoder_memory_new = tf.stack(arrays, axis=1)\n",
    "        sum_vec = tf.concat([encoder_outs, decoder_memory_new], axis=2)\n",
    "        normalized_weights = self.norm(self.attention_model(sum_vec)[:, :, 0])\n",
    "        out_vector = tf.math.multiply(normalized_weights[..., tf.newaxis], encoder_outs)\n",
    "        out_vector = tf.reduce_sum(out_vector, 1)\n",
    "        return out_vector\n",
    "\n",
    "\n",
    "class Decoder(tf.keras.Model):\n",
    "    def __init__(self):\n",
    "        super().__init__()\n",
    "        self.embed = tf.keras.layers.Embedding(TARGET_VOCAB_SIZE, EMB_SIZE)\n",
    "        self.lstm = tf.keras.layers.LSTM(\n",
    "            H_SIZE, return_sequences=True, return_state=True\n",
    "        )\n",
    "        self.fc = tf.keras.layers.Dense(TARGET_VOCAB_SIZE, activation='softmax')\n",
    "        self.attention_models = [Attention() for _ in range(max_dec_seq_length)]\n",
    "\n",
    "    def call(self, x, encoder_outs, init_state):\n",
    "        if encoder_outs.shape[1] == None:\n",
    "            dec_seq_length = max_dec_seq_length\n",
    "        else:\n",
    "            dec_seq_length = x.shape[1]\n",
    "        total_out = []\n",
    "        for i in range(dec_seq_length):\n",
    "            out = self.embed(x[:, i])\n",
    "            context = self.attention_models[i](encoder_outs, init_state)\n",
    "            out = tf.concat((out, context), axis=1)\n",
    "            out, h, c = self.lstm(out[:, tf.newaxis, :], initial_state=init_state)\n",
    "            init_state = (h, c)\n",
    "            out = self.fc(out)\n",
    "            total_out.append(out)\n",
    "        total_out = tf.concat((total_out), axis=1)\n",
    "        state = (h, c)\n",
    "        return total_out, state\n",
    "\n",
    "\n",
    "encoder_model = Encoder()\n",
    "decoder_model = Decoder()\n",
    "\n",
    "encoder_inputs = tf.keras.layers.Input(shape=(None,))\n",
    "decoder_inputs = tf.keras.layers.Input(shape=(None,))\n",
    "\n",
    "encoder_outputs, enc_state = encoder_model(encoder_inputs)\n",
    "decoder_outputs, _ = decoder_model(decoder_inputs, encoder_outputs, enc_state)\n",
    "\n",
    "seq2seq = tf.keras.Model([encoder_inputs, decoder_inputs], decoder_outputs)"
   ]
  },
  {
   "cell_type": "markdown",
   "metadata": {},
   "source": [
    "Посмотрим на архитектуру"
   ]
  },
  {
   "cell_type": "code",
   "execution_count": 15,
   "metadata": {
    "colab": {
     "base_uri": "https://localhost:8080/"
    },
    "executionInfo": {
     "elapsed": 34,
     "status": "ok",
     "timestamp": 1662792799869,
     "user": {
      "displayName": "Михаил Архипов",
      "userId": "10246866371929740571"
     },
     "user_tz": -180
    },
    "id": "R611P4a955uJ",
    "outputId": "60394aef-7f0d-46af-b317-37aa1e418275"
   },
   "outputs": [
    {
     "name": "stdout",
     "output_type": "stream",
     "text": [
      "Model: \"model\"\n",
      "__________________________________________________________________________________________________\n",
      " Layer (type)                   Output Shape         Param #     Connected to                     \n",
      "==================================================================================================\n",
      " input_1 (InputLayer)           [(None, None)]       0           []                               \n",
      "                                                                                                  \n",
      " input_2 (InputLayer)           [(None, None)]       0           []                               \n",
      "                                                                                                  \n",
      " encoder (Encoder)              ((None, None, 256),  22120960    ['input_1[0][0]']                \n",
      "                                 ((None, 256),                                                    \n",
      "                                 (None, 256)))                                                    \n",
      "                                                                                                  \n",
      " decoder (Decoder)              ((None, 31, 81724),  42727740    ['input_2[0][0]',                \n",
      "                                 ((None, 256),                    'encoder[0][0]',                \n",
      "                                 (None, 256)))                    'encoder[0][1]',                \n",
      "                                                                  'encoder[0][2]']                \n",
      "                                                                                                  \n",
      "==================================================================================================\n",
      "Total params: 64,848,700\n",
      "Trainable params: 64,848,700\n",
      "Non-trainable params: 0\n",
      "__________________________________________________________________________________________________\n"
     ]
    }
   ],
   "source": [
    "seq2seq.summary()"
   ]
  },
  {
   "cell_type": "markdown",
   "metadata": {
    "id": "1FQX_z5Kcacx"
   },
   "source": [
    "### Обучение модели"
   ]
  },
  {
   "cell_type": "code",
   "execution_count": 16,
   "metadata": {
    "colab": {
     "base_uri": "https://localhost:8080/"
    },
    "executionInfo": {
     "elapsed": 2247,
     "status": "ok",
     "timestamp": 1662794201295,
     "user": {
      "displayName": "Михаил Архипов",
      "userId": "10246866371929740571"
     },
     "user_tz": -180
    },
    "id": "MYIVzBWxOrXE",
    "outputId": "04cd9f5d-36b5-4006-92ff-7da1ba67f08e"
   },
   "outputs": [],
   "source": [
    "# from google.colab import drive\n",
    "# drive.mount('/content/drive/')\n",
    "path = Path(\"D:/Skillbox/\")\n",
    "path.mkdir(exist_ok=True, parents=True)\n",
    "file_to_save = \"chat_bot_best_2.h5\"  \n",
    "path_to_save = str(path / file_to_save)"
   ]
  },
  {
   "cell_type": "code",
   "execution_count": 17,
   "metadata": {
    "executionInfo": {
     "elapsed": 21,
     "status": "ok",
     "timestamp": 1662794201296,
     "user": {
      "displayName": "Михаил Архипов",
      "userId": "10246866371929740571"
     },
     "user_tz": -180
    },
    "id": "lmFg5yZ3O5ab"
   },
   "outputs": [],
   "source": [
    "# !pip install livelossplot\n",
    "from livelossplot.tf_keras import PlotLossesCallback"
   ]
  },
  {
   "cell_type": "code",
   "execution_count": 18,
   "metadata": {
    "executionInfo": {
     "elapsed": 20,
     "status": "ok",
     "timestamp": 1662794201297,
     "user": {
      "displayName": "Михаил Архипов",
      "userId": "10246866371929740571"
     },
     "user_tz": -180
    },
    "id": "Cd8lXI4kPBPa"
   },
   "outputs": [],
   "source": [
    "checkpoint = tf.keras.callbacks.ModelCheckpoint(path_to_save, monitor='accuracy', verbose=1, save_best_only=True, mode='max')"
   ]
  },
  {
   "cell_type": "code",
   "execution_count": null,
   "metadata": {
    "id": "5Pj_XiowPOJ6"
   },
   "outputs": [],
   "source": [
    "# from keras.models import load_model\n",
    "# model = load_model(path_to_save)"
   ]
  },
  {
   "cell_type": "code",
   "execution_count": 19,
   "metadata": {
    "colab": {
     "base_uri": "https://localhost:8080/"
    },
    "id": "_rT1D_MQYxKm",
    "outputId": "28855208-f09b-439a-c617-c889bb4b1f44"
   },
   "outputs": [
    {
     "data": {
      "image/png": "[encoded data removed]",
      "text/plain": [
       "<Figure size 864x576 with 2 Axes>"
      ]
     },
     "metadata": {
      "needs_background": "light"
     },
     "output_type": "display_data"
    },
    {
     "name": "stdout",
     "output_type": "stream",
     "text": [
      "accuracy\n",
      "\taccuracy         \t (min:    0.753, max:    0.875, cur:    0.875)\n",
      "Loss\n",
      "\tloss             \t (min:    0.819, max:    1.942, cur:    0.819)\n",
      "1552/1552 [==============================] - 851s 548ms/step - loss: 0.8191 - accuracy: 0.8751\n"
     ]
    },
    {
     "data": {
      "text/plain": [
       "<keras.callbacks.History at 0x1dd8b2b8e20>"
      ]
     },
     "execution_count": 19,
     "metadata": {},
     "output_type": "execute_result"
    }
   ],
   "source": [
    "BATCH_SIZE = 80\n",
    "EPOCHS = 50\n",
    "\n",
    "loss = tf.losses.SparseCategoricalCrossentropy()\n",
    "seq2seq.compile(optimizer='rmsprop', loss=loss, metrics=['accuracy'])\n",
    "seq2seq.fit([encoder_input_seqs, decoder_input_seqs], decoder_target_seqs,\n",
    "          batch_size=BATCH_SIZE,\n",
    "          epochs=EPOCHS,\n",
    "          callbacks=[checkpoint, PlotLossesCallback()])"
   ]
  },
  {
   "cell_type": "markdown",
   "metadata": {
    "id": "n5M_8rngc137"
   },
   "source": [
    "### Функция для инференса\n"
   ]
  },
  {
   "cell_type": "code",
   "execution_count": 20,
   "metadata": {
    "id": "D-jCrL-_ad2V"
   },
   "outputs": [],
   "source": [
    "def seq2seq_inference(input_seq):\n",
    "    # print(input_seq.shape, type(input_seq))\n",
    "    enc_out, state = encoder_model(input_seq)\n",
    "    # print(state[0].shape, state[1].shape)\n",
    "\n",
    "    target_seq = np.array([[target_word2idx['<START>']]])\n",
    "    # print(target_seq.shape)\n",
    "\n",
    "    decoded_sentence = ''\n",
    "    limit = 0\n",
    "    while True:\n",
    "        output_tokens, _ = decoder_model(target_seq, enc_out, state)\n",
    "        sampled_token_index = np.argmax(output_tokens[0, -1, :])\n",
    "        sampled_word = target_idx2word[sampled_token_index]\n",
    "        limit += 1\n",
    "\n",
    "        if (sampled_word == '<END>' or\n",
    "           limit >= max_dec_seq_length):\n",
    "            break\n",
    "\n",
    "        target_seq = np.concatenate((target_seq, np.array([[sampled_token_index]])), 1)\n",
    "    \n",
    "    for i, word_idx in enumerate(target_seq[0]):\n",
    "        if i > 0:\n",
    "            decoded_sentence += target_idx2word[word_idx] + ' '\n",
    "        \n",
    "\n",
    "    return decoded_sentence"
   ]
  },
  {
   "cell_type": "markdown",
   "metadata": {
    "id": "dtUejpB6c6Hx"
   },
   "source": [
    "### Пример инференса\n"
   ]
  },
  {
   "cell_type": "code",
   "execution_count": 21,
   "metadata": {
    "id": "4lbvBuFmYLeo"
   },
   "outputs": [
    {
     "name": "stdout",
     "output_type": "stream",
     "text": [
      "Все ок.\n"
     ]
    }
   ],
   "source": [
    "my_enter = 'Hello'\n",
    "my_enter_check = [input_word2idx[word] for word in my_enter.split() if word in input_word2idx.keys()]\n",
    "if len(my_enter.split()) != len(my_enter_check):\n",
    "    print(f'{len(my_enter.split()) - len(my_enter_check)} слов из целевой фразы нет в словаре')\n",
    "else:\n",
    "    print('Все ок.')\n",
    "my_enter = np.array([my_enter_check])"
   ]
  },
  {
   "cell_type": "code",
   "execution_count": 22,
   "metadata": {
    "id": "siltwVaQZiaj"
   },
   "outputs": [
    {
     "data": {
      "text/plain": [
       "\"there, can't. minute, can't. Hello, can't. minute, want. Actually, figure going? Hey, bucks. minutes on! minutes late. on! minutes on! minutes on! minutes on! minutes on! minutes on! guess down, \""
      ]
     },
     "execution_count": 22,
     "metadata": {},
     "output_type": "execute_result"
    }
   ],
   "source": [
    "seq2seq_inference(my_enter)"
   ]
  },
  {
   "cell_type": "code",
   "execution_count": null,
   "metadata": {},
   "outputs": [],
   "source": [
    "H_SIZE = 256  # Размерность скрытого состояния LSTM\n",
    "EMB_SIZE = 256  # размерность эмбеддингов (и для входных и для выходных цепочек)\n",
    "\n",
    "\n",
    "class Encoder(tf.keras.Model):\n",
    "    def __init__(self):\n",
    "        super().__init__()\n",
    "        self.embed = tf.keras.layers.Embedding(INPUT_VOCAB_SIZE, EMB_SIZE)\n",
    "        self.bi_lstm = tf.keras.layers.Bidirectional(\n",
    "            tf.keras.layers.LSTM(H_SIZE // 2, return_sequences=True, return_state=True)\n",
    "        )\n",
    "\n",
    "    def call(self, x):\n",
    "        out = self.embed(x)\n",
    "        out, h1, c1, h2, c2 = self.bi_lstm(out)\n",
    "        h = tf.keras.layers.concatenate([h1, h2], axis=1)\n",
    "        c = tf.keras.layers.concatenate([c1, c2], axis=1)\n",
    "        state = (h, c)\n",
    "        return out, state\n",
    "\n",
    "\n",
    "class Attention(tf.keras.Model):\n",
    "    def __init__(self):\n",
    "        super().__init__()\n",
    "        self.attention_model = tf.keras.Sequential(\n",
    "            [\n",
    "                tf.keras.layers.Dense(\n",
    "                    1, use_bias=False, input_shape=(None, EMB_SIZE + H_SIZE)\n",
    "                )\n",
    "            ]\n",
    "        )\n",
    "        self.norm = tf.keras.layers.Softmax()\n",
    "\n",
    "    def call(self, encoder_outs, decoder_memory):\n",
    "        if encoder_outs.shape[1] == None:\n",
    "            seq_length = max_enc_seq_length\n",
    "        else:\n",
    "            seq_length = encoder_outs.shape[1]\n",
    "        arrays = [decoder_memory[0] for _ in range(seq_length)]\n",
    "        decoder_memory_new = tf.stack(arrays, axis=1)\n",
    "        sum_vec = tf.concat([encoder_outs, decoder_memory_new], axis=2)\n",
    "        normalized_weights = self.norm(self.attention_model(sum_vec)[:, :, 0])\n",
    "        out_vector = tf.math.multiply(normalized_weights[..., tf.newaxis], encoder_outs)\n",
    "        out_vector = tf.reduce_sum(out_vector, 1)\n",
    "        return out_vector\n",
    "\n",
    "\n",
    "class Decoder(tf.keras.Model):\n",
    "    def __init__(self):\n",
    "        super().__init__()\n",
    "        self.embed = tf.keras.layers.Embedding(TARGET_VOCAB_SIZE, EMB_SIZE)\n",
    "        self.lstm = tf.keras.layers.LSTM(\n",
    "            H_SIZE, return_sequences=True, return_state=True\n",
    "        )\n",
    "        self.fc = tf.keras.layers.Dense(TARGET_VOCAB_SIZE, activation='softmax')\n",
    "        self.attention_models = [Attention() for _ in range(max_dec_seq_length)]\n",
    "\n",
    "    def call(self, x, encoder_outs, init_state):\n",
    "        if encoder_outs.shape[1] == None:\n",
    "            dec_seq_length = max_dec_seq_length\n",
    "        else:\n",
    "            dec_seq_length = x.shape[1]\n",
    "        total_out = []\n",
    "        for i in range(dec_seq_length):\n",
    "            out = self.embed(x[:, i])\n",
    "            context = self.attention_models[i](encoder_outs, init_state)\n",
    "            out = tf.concat((out, context), axis=1)\n",
    "            out, h, c = self.lstm(out[:, tf.newaxis, :], initial_state=init_state)\n",
    "            init_state = (h, c)\n",
    "            out = self.fc(out)\n",
    "            total_out.append(out)\n",
    "        total_out = tf.concat((total_out), axis=1)\n",
    "        state = (h, c)\n",
    "        return total_out, state\n",
    "\n",
    "\n",
    "encoder_model = Encoder()\n",
    "decoder_model = Decoder()\n",
    "\n",
    "encoder_inputs = tf.keras.layers.Input(shape=(None,))\n",
    "decoder_inputs = tf.keras.layers.Input(shape=(None,))\n",
    "\n",
    "encoder_outputs, enc_state = encoder_model(encoder_inputs)\n",
    "decoder_outputs, _ = decoder_model(decoder_inputs, encoder_outputs, enc_state)\n",
    "\n",
    "seq2seq = tf.keras.Model([encoder_inputs, decoder_inputs], decoder_outputs)"
   ]
  }
 ],
 "metadata": {
  "colab": {
   "collapsed_sections": [],
   "provenance": []
  },
  "gpuClass": "standard",
  "kernelspec": {
   "display_name": "Python 3 (ipykernel)",
   "language": "python",
   "name": "python3"
  },
  "language_info": {
   "codemirror_mode": {
    "name": "ipython",
    "version": 3
   },
   "file_extension": ".py",
   "mimetype": "text/x-python",
   "name": "python",
   "nbconvert_exporter": "python",
   "pygments_lexer": "ipython3",
   "version": "3.9.12"
  }
 },
 "nbformat": 4,
 "nbformat_minor": 4
}
